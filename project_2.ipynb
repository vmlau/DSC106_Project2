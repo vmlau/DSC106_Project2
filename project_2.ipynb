{
 "cells": [
  {
   "cell_type": "code",
   "execution_count": 35,
   "id": "1b69732b-dd03-45dc-8859-6563c210f7c3",
   "metadata": {},
   "outputs": [],
   "source": [
    "import pandas as pd\n",
    "import numpy as np\n",
    "import matplotlib.pyplot as plt\n",
    "import seaborn as sns"
   ]
  },
  {
   "cell_type": "code",
   "execution_count": 36,
   "id": "c3c93606-69fe-4b2b-956d-553a1a62370c",
   "metadata": {},
   "outputs": [
    {
     "name": "stderr",
     "output_type": "stream",
     "text": [
      "/tmp/ipykernel_411/3467736048.py:2: ParserWarning: Skipping line 14755: expected 27 fields, saw 33\n",
      "\n",
      "  data = pd.read_csv('allegations_202007271729.csv', on_bad_lines='warn')\n",
      "/tmp/ipykernel_411/3467736048.py:2: ParserWarning: Skipping line 36823: expected 27 fields, saw 33\n",
      "Skipping line 44128: expected 27 fields, saw 31\n",
      "Skipping line 51398: expected 27 fields, saw 28\n",
      "\n",
      "  data = pd.read_csv('allegations_202007271729.csv', on_bad_lines='warn')\n",
      "/tmp/ipykernel_411/3467736048.py:2: DtypeWarning: Columns (0,4,5,6,7,8,9,23) have mixed types. Specify dtype option on import or set low_memory=False.\n",
      "  data = pd.read_csv('allegations_202007271729.csv', on_bad_lines='warn')\n"
     ]
    }
   ],
   "source": [
    "#loading in police csv\n",
    "data = pd.read_csv('allegations_202007271729.csv', on_bad_lines='warn')"
   ]
  },
  {
   "cell_type": "code",
   "execution_count": 9,
   "id": "dd0e6d0a-f9b0-44d1-b011-85247bf18e83",
   "metadata": {},
   "outputs": [
    {
     "data": {
      "text/html": [
       "<div>\n",
       "<style scoped>\n",
       "    .dataframe tbody tr th:only-of-type {\n",
       "        vertical-align: middle;\n",
       "    }\n",
       "\n",
       "    .dataframe tbody tr th {\n",
       "        vertical-align: top;\n",
       "    }\n",
       "\n",
       "    .dataframe thead th {\n",
       "        text-align: right;\n",
       "    }\n",
       "</style>\n",
       "<table border=\"1\" class=\"dataframe\">\n",
       "  <thead>\n",
       "    <tr style=\"text-align: right;\">\n",
       "      <th></th>\n",
       "      <th>unique_mos_id</th>\n",
       "      <th>first_name</th>\n",
       "      <th>last_name</th>\n",
       "      <th>command_now</th>\n",
       "      <th>shield_no</th>\n",
       "      <th>complaint_id</th>\n",
       "      <th>month_received</th>\n",
       "      <th>year_received</th>\n",
       "      <th>month_closed</th>\n",
       "      <th>year_closed</th>\n",
       "      <th>...</th>\n",
       "      <th>mos_age_incident</th>\n",
       "      <th>complainant_ethnicity</th>\n",
       "      <th>complainant_gender</th>\n",
       "      <th>complainant_age_incident</th>\n",
       "      <th>fado_type</th>\n",
       "      <th>allegation</th>\n",
       "      <th>precinct</th>\n",
       "      <th>contact_reason</th>\n",
       "      <th>outcome_description</th>\n",
       "      <th>board_disposition</th>\n",
       "    </tr>\n",
       "  </thead>\n",
       "  <tbody>\n",
       "    <tr>\n",
       "      <th>0</th>\n",
       "      <td>10004</td>\n",
       "      <td>Jonathan</td>\n",
       "      <td>Ruiz</td>\n",
       "      <td>078 PCT</td>\n",
       "      <td>8409</td>\n",
       "      <td>42835</td>\n",
       "      <td>7</td>\n",
       "      <td>2019</td>\n",
       "      <td>5</td>\n",
       "      <td>2020</td>\n",
       "      <td>...</td>\n",
       "      <td>32</td>\n",
       "      <td>Black</td>\n",
       "      <td>Female</td>\n",
       "      <td>38.0</td>\n",
       "      <td>Abuse of Authority</td>\n",
       "      <td>Failure to provide RTKA card</td>\n",
       "      <td>78</td>\n",
       "      <td>Report-domestic dispute</td>\n",
       "      <td>No arrest made or summons issued</td>\n",
       "      <td>Substantiated (Command Lvl Instructions)</td>\n",
       "    </tr>\n",
       "    <tr>\n",
       "      <th>1</th>\n",
       "      <td>10007</td>\n",
       "      <td>John</td>\n",
       "      <td>Sears</td>\n",
       "      <td>078 PCT</td>\n",
       "      <td>5952</td>\n",
       "      <td>24601</td>\n",
       "      <td>11</td>\n",
       "      <td>2011</td>\n",
       "      <td>8</td>\n",
       "      <td>2012</td>\n",
       "      <td>...</td>\n",
       "      <td>24</td>\n",
       "      <td>Black</td>\n",
       "      <td>Male</td>\n",
       "      <td>26.0</td>\n",
       "      <td>Discourtesy</td>\n",
       "      <td>Action</td>\n",
       "      <td>67</td>\n",
       "      <td>Moving violation</td>\n",
       "      <td>Moving violation summons issued</td>\n",
       "      <td>Substantiated (Charges)</td>\n",
       "    </tr>\n",
       "    <tr>\n",
       "      <th>2</th>\n",
       "      <td>10007</td>\n",
       "      <td>John</td>\n",
       "      <td>Sears</td>\n",
       "      <td>078 PCT</td>\n",
       "      <td>5952</td>\n",
       "      <td>24601</td>\n",
       "      <td>11</td>\n",
       "      <td>2011</td>\n",
       "      <td>8</td>\n",
       "      <td>2012</td>\n",
       "      <td>...</td>\n",
       "      <td>24</td>\n",
       "      <td>Black</td>\n",
       "      <td>Male</td>\n",
       "      <td>26.0</td>\n",
       "      <td>Offensive Language</td>\n",
       "      <td>Race</td>\n",
       "      <td>67</td>\n",
       "      <td>Moving violation</td>\n",
       "      <td>Moving violation summons issued</td>\n",
       "      <td>Substantiated (Charges)</td>\n",
       "    </tr>\n",
       "    <tr>\n",
       "      <th>3</th>\n",
       "      <td>10007</td>\n",
       "      <td>John</td>\n",
       "      <td>Sears</td>\n",
       "      <td>078 PCT</td>\n",
       "      <td>5952</td>\n",
       "      <td>26146</td>\n",
       "      <td>7</td>\n",
       "      <td>2012</td>\n",
       "      <td>9</td>\n",
       "      <td>2013</td>\n",
       "      <td>...</td>\n",
       "      <td>25</td>\n",
       "      <td>Black</td>\n",
       "      <td>Male</td>\n",
       "      <td>45.0</td>\n",
       "      <td>Abuse of Authority</td>\n",
       "      <td>Question</td>\n",
       "      <td>67</td>\n",
       "      <td>PD suspected C/V of violation/crime - street</td>\n",
       "      <td>No arrest made or summons issued</td>\n",
       "      <td>Substantiated (Charges)</td>\n",
       "    </tr>\n",
       "    <tr>\n",
       "      <th>4</th>\n",
       "      <td>10009</td>\n",
       "      <td>Noemi</td>\n",
       "      <td>Sierra</td>\n",
       "      <td>078 PCT</td>\n",
       "      <td>24058</td>\n",
       "      <td>40253</td>\n",
       "      <td>8</td>\n",
       "      <td>2018</td>\n",
       "      <td>2</td>\n",
       "      <td>2019</td>\n",
       "      <td>...</td>\n",
       "      <td>39</td>\n",
       "      <td>NaN</td>\n",
       "      <td>NaN</td>\n",
       "      <td>16.0</td>\n",
       "      <td>Force</td>\n",
       "      <td>Physical force</td>\n",
       "      <td>67</td>\n",
       "      <td>Report-dispute</td>\n",
       "      <td>Arrest - other violation/crime</td>\n",
       "      <td>Substantiated (Command Discipline A)</td>\n",
       "    </tr>\n",
       "  </tbody>\n",
       "</table>\n",
       "<p>5 rows × 27 columns</p>\n",
       "</div>"
      ],
      "text/plain": [
       "  unique_mos_id first_name last_name command_now shield_no complaint_id  \\\n",
       "0         10004   Jonathan      Ruiz     078 PCT      8409        42835   \n",
       "1         10007       John     Sears     078 PCT      5952        24601   \n",
       "2         10007       John     Sears     078 PCT      5952        24601   \n",
       "3         10007       John     Sears     078 PCT      5952        26146   \n",
       "4         10009      Noemi    Sierra     078 PCT     24058        40253   \n",
       "\n",
       "  month_received year_received month_closed year_closed  ... mos_age_incident  \\\n",
       "0              7          2019            5        2020  ...               32   \n",
       "1             11          2011            8        2012  ...               24   \n",
       "2             11          2011            8        2012  ...               24   \n",
       "3              7          2012            9        2013  ...               25   \n",
       "4              8          2018            2        2019  ...               39   \n",
       "\n",
       "  complainant_ethnicity complainant_gender complainant_age_incident  \\\n",
       "0                 Black             Female                     38.0   \n",
       "1                 Black               Male                     26.0   \n",
       "2                 Black               Male                     26.0   \n",
       "3                 Black               Male                     45.0   \n",
       "4                   NaN                NaN                     16.0   \n",
       "\n",
       "            fado_type                    allegation precinct  \\\n",
       "0  Abuse of Authority  Failure to provide RTKA card       78   \n",
       "1         Discourtesy                        Action       67   \n",
       "2  Offensive Language                          Race       67   \n",
       "3  Abuse of Authority                      Question       67   \n",
       "4               Force                Physical force       67   \n",
       "\n",
       "                                 contact_reason  \\\n",
       "0                       Report-domestic dispute   \n",
       "1                              Moving violation   \n",
       "2                              Moving violation   \n",
       "3  PD suspected C/V of violation/crime - street   \n",
       "4                                Report-dispute   \n",
       "\n",
       "                outcome_description                         board_disposition  \n",
       "0  No arrest made or summons issued  Substantiated (Command Lvl Instructions)  \n",
       "1   Moving violation summons issued                   Substantiated (Charges)  \n",
       "2   Moving violation summons issued                   Substantiated (Charges)  \n",
       "3  No arrest made or summons issued                   Substantiated (Charges)  \n",
       "4    Arrest - other violation/crime      Substantiated (Command Discipline A)  \n",
       "\n",
       "[5 rows x 27 columns]"
      ]
     },
     "execution_count": 9,
     "metadata": {},
     "output_type": "execute_result"
    }
   ],
   "source": [
    "data.head()"
   ]
  },
  {
   "cell_type": "code",
   "execution_count": 67,
   "id": "bbad174b-c0bc-4250-a0fa-989aa3cfe1a5",
   "metadata": {},
   "outputs": [
    {
     "data": {
      "text/plain": [
       "(63100, 27)"
      ]
     },
     "execution_count": 67,
     "metadata": {},
     "output_type": "execute_result"
    }
   ],
   "source": [
    "data.shape"
   ]
  },
  {
   "cell_type": "code",
   "execution_count": 128,
   "id": "49db5063-daf2-4d50-9ed2-41020403994d",
   "metadata": {},
   "outputs": [
    {
     "data": {
      "text/plain": [
       "unique_mos_id                  0\n",
       "first_name                     0\n",
       "last_name                      0\n",
       "command_now                    0\n",
       "shield_no                      0\n",
       "complaint_id                   0\n",
       "month_received                 0\n",
       "year_received                  0\n",
       "month_closed                   0\n",
       "year_closed                    0\n",
       "command_at_incident         3027\n",
       "rank_abbrev_incident           1\n",
       "rank_abbrev_now                1\n",
       "rank_now                       1\n",
       "rank_incident                  1\n",
       "mos_ethnicity                  1\n",
       "mos_gender                     1\n",
       "mos_age_incident               1\n",
       "complainant_ethnicity       8613\n",
       "complainant_gender          8108\n",
       "complainant_age_incident    9277\n",
       "fado_type                      4\n",
       "allegation                     6\n",
       "precinct                      52\n",
       "contact_reason               386\n",
       "outcome_description          115\n",
       "board_disposition              5\n",
       "dtype: int64"
      ]
     },
     "execution_count": 128,
     "metadata": {},
     "output_type": "execute_result"
    }
   ],
   "source": [
    "data.isnull().sum()"
   ]
  },
  {
   "cell_type": "code",
   "execution_count": 114,
   "id": "7a88f031-9856-48ab-89f0-2a90dc512143",
   "metadata": {},
   "outputs": [
    {
     "name": "stdout",
     "output_type": "stream",
     "text": [
      "<class 'pandas.core.frame.DataFrame'>\n",
      "RangeIndex: 63100 entries, 0 to 63099\n",
      "Data columns (total 27 columns):\n",
      " #   Column                    Non-Null Count  Dtype  \n",
      "---  ------                    --------------  -----  \n",
      " 0   unique_mos_id             63100 non-null  object \n",
      " 1   first_name                63100 non-null  object \n",
      " 2   last_name                 63100 non-null  object \n",
      " 3   command_now               63100 non-null  object \n",
      " 4   shield_no                 63100 non-null  object \n",
      " 5   complaint_id              63100 non-null  object \n",
      " 6   month_received            63100 non-null  object \n",
      " 7   year_received             63100 non-null  object \n",
      " 8   month_closed              63099 non-null  object \n",
      " 9   year_closed               63099 non-null  object \n",
      " 10  command_at_incident       60073 non-null  object \n",
      " 11  rank_abbrev_incident      63099 non-null  object \n",
      " 12  rank_abbrev_now           63099 non-null  object \n",
      " 13  rank_now                  63099 non-null  object \n",
      " 14  rank_incident             63099 non-null  object \n",
      " 15  mos_ethnicity             63099 non-null  object \n",
      " 16  mos_gender                63099 non-null  object \n",
      " 17  mos_age_incident          63099 non-null  object \n",
      " 18  complainant_ethnicity     54487 non-null  object \n",
      " 19  complainant_gender        54992 non-null  object \n",
      " 20  complainant_age_incident  53823 non-null  float64\n",
      " 21  fado_type                 63096 non-null  object \n",
      " 22  allegation                63094 non-null  object \n",
      " 23  precinct                  63048 non-null  object \n",
      " 24  contact_reason            62714 non-null  object \n",
      " 25  outcome_description       62985 non-null  object \n",
      " 26  board_disposition         63095 non-null  object \n",
      "dtypes: float64(1), object(26)\n",
      "memory usage: 13.0+ MB\n"
     ]
    }
   ],
   "source": [
    "#to clean: month, year\n",
    "data.info()"
   ]
  },
  {
   "cell_type": "code",
   "execution_count": 119,
   "id": "2338424c-782a-4008-afad-5520738fd394",
   "metadata": {},
   "outputs": [],
   "source": [
    "for column in ['month_received', 'year_received', 'month_closed', 'year_closed']:\n",
    "    data[column] = data[column].astype(str)"
   ]
  },
  {
   "cell_type": "code",
   "execution_count": 122,
   "id": "649b61a2-d0ae-4af6-bcfd-05d9358ea13c",
   "metadata": {},
   "outputs": [
    {
     "data": {
      "text/plain": [
       "array(['2019', '2011', '2012', '2018', '2017', '2015', '2016', '2013',\n",
       "       '2014', '2010', '2001', '2002', '2007', '2003', '2004', '2005',\n",
       "       '2006', '2008', '2009', '1997', '1999', '1996', '2000', '1991',\n",
       "       '1992', '1993', '1995', '1989', '1994', '1998', '1990', '1988',\n",
       "       '1985', '1986', '1987', '2020', '201ted', 'Police Officer'],\n",
       "      dtype=object)"
      ]
     },
     "execution_count": 122,
     "metadata": {},
     "output_type": "execute_result"
    }
   ],
   "source": [
    "data['year_received'].unique()"
   ]
  },
  {
   "cell_type": "code",
   "execution_count": 124,
   "id": "f017c457-b807-4271-a4d4-4e8c25dfdf4a",
   "metadata": {},
   "outputs": [
    {
     "data": {
      "text/html": [
       "<div>\n",
       "<style scoped>\n",
       "    .dataframe tbody tr th:only-of-type {\n",
       "        vertical-align: middle;\n",
       "    }\n",
       "\n",
       "    .dataframe tbody tr th {\n",
       "        vertical-align: top;\n",
       "    }\n",
       "\n",
       "    .dataframe thead th {\n",
       "        text-align: right;\n",
       "    }\n",
       "</style>\n",
       "<table border=\"1\" class=\"dataframe\">\n",
       "  <thead>\n",
       "    <tr style=\"text-align: right;\">\n",
       "      <th></th>\n",
       "      <th>unique_mos_id</th>\n",
       "      <th>first_name</th>\n",
       "      <th>last_name</th>\n",
       "      <th>command_now</th>\n",
       "      <th>shield_no</th>\n",
       "      <th>complaint_id</th>\n",
       "      <th>month_received</th>\n",
       "      <th>year_received</th>\n",
       "      <th>month_closed</th>\n",
       "      <th>year_closed</th>\n",
       "      <th>...</th>\n",
       "      <th>mos_age_incident</th>\n",
       "      <th>complainant_ethnicity</th>\n",
       "      <th>complainant_gender</th>\n",
       "      <th>complainant_age_incident</th>\n",
       "      <th>fado_type</th>\n",
       "      <th>allegation</th>\n",
       "      <th>precinct</th>\n",
       "      <th>contact_reason</th>\n",
       "      <th>outcome_description</th>\n",
       "      <th>board_disposition</th>\n",
       "    </tr>\n",
       "  </thead>\n",
       "  <tbody>\n",
       "    <tr>\n",
       "      <th>62698</th>\n",
       "      <td>2\"</td>\n",
       "      <td>3</td>\n",
       "      <td>2013</td>\n",
       "      <td>068 PCT</td>\n",
       "      <td>POM</td>\n",
       "      <td>LT</td>\n",
       "      <td>Lieutenant</td>\n",
       "      <td>Police Officer</td>\n",
       "      <td>White</td>\n",
       "      <td>M</td>\n",
       "      <td>...</td>\n",
       "      <td>PD suspected C/V of violation/crime - bldg</td>\n",
       "      <td>Arrest - other violation/crime</td>\n",
       "      <td>Unsubstantiated</td>\n",
       "      <td>NaN</td>\n",
       "      <td>NaN</td>\n",
       "      <td>NaN</td>\n",
       "      <td>NaN</td>\n",
       "      <td>NaN</td>\n",
       "      <td>NaN</td>\n",
       "      <td>NaN</td>\n",
       "    </tr>\n",
       "  </tbody>\n",
       "</table>\n",
       "<p>1 rows × 27 columns</p>\n",
       "</div>"
      ],
      "text/plain": [
       "      unique_mos_id first_name last_name command_now shield_no complaint_id  \\\n",
       "62698            2\"          3      2013     068 PCT       POM           LT   \n",
       "\n",
       "      month_received   year_received month_closed year_closed  ...  \\\n",
       "62698     Lieutenant  Police Officer        White           M  ...   \n",
       "\n",
       "                                 mos_age_incident  \\\n",
       "62698  PD suspected C/V of violation/crime - bldg   \n",
       "\n",
       "                complainant_ethnicity complainant_gender  \\\n",
       "62698  Arrest - other violation/crime    Unsubstantiated   \n",
       "\n",
       "      complainant_age_incident fado_type allegation precinct contact_reason  \\\n",
       "62698                      NaN       NaN        NaN      NaN            NaN   \n",
       "\n",
       "      outcome_description board_disposition  \n",
       "62698                 NaN               NaN  \n",
       "\n",
       "[1 rows x 27 columns]"
      ]
     },
     "execution_count": 124,
     "metadata": {},
     "output_type": "execute_result"
    }
   ],
   "source": [
    "#some of the rows have the values out of order?\n",
    "data[data['year_received'] == 'Police Officer']"
   ]
  },
  {
   "cell_type": "code",
   "execution_count": 126,
   "id": "17257b00-3979-44cb-8181-d01e0f356908",
   "metadata": {},
   "outputs": [
    {
     "data": {
      "text/html": [
       "<div>\n",
       "<style scoped>\n",
       "    .dataframe tbody tr th:only-of-type {\n",
       "        vertical-align: middle;\n",
       "    }\n",
       "\n",
       "    .dataframe tbody tr th {\n",
       "        vertical-align: top;\n",
       "    }\n",
       "\n",
       "    .dataframe thead th {\n",
       "        text-align: right;\n",
       "    }\n",
       "</style>\n",
       "<table border=\"1\" class=\"dataframe\">\n",
       "  <thead>\n",
       "    <tr style=\"text-align: right;\">\n",
       "      <th></th>\n",
       "      <th>unique_mos_id</th>\n",
       "      <th>first_name</th>\n",
       "      <th>last_name</th>\n",
       "      <th>command_now</th>\n",
       "      <th>shield_no</th>\n",
       "      <th>complaint_id</th>\n",
       "      <th>month_received</th>\n",
       "      <th>year_received</th>\n",
       "      <th>month_closed</th>\n",
       "      <th>year_closed</th>\n",
       "      <th>...</th>\n",
       "      <th>mos_age_incident</th>\n",
       "      <th>complainant_ethnicity</th>\n",
       "      <th>complainant_gender</th>\n",
       "      <th>complainant_age_incident</th>\n",
       "      <th>fado_type</th>\n",
       "      <th>allegation</th>\n",
       "      <th>precinct</th>\n",
       "      <th>contact_reason</th>\n",
       "      <th>outcome_description</th>\n",
       "      <th>board_disposition</th>\n",
       "    </tr>\n",
       "  </thead>\n",
       "  <tbody>\n",
       "    <tr>\n",
       "      <th>58661</th>\n",
       "      <td>9495</td>\n",
       "      <td>Nicholas</td>\n",
       "      <td>Corrado</td>\n",
       "      <td>076 PCT</td>\n",
       "      <td>0</td>\n",
       "      <td>25816</td>\n",
       "      <td>5</td>\n",
       "      <td>201ted</td>\n",
       "      <td>nan</td>\n",
       "      <td>nan</td>\n",
       "      <td>...</td>\n",
       "      <td>NaN</td>\n",
       "      <td>NaN</td>\n",
       "      <td>NaN</td>\n",
       "      <td>NaN</td>\n",
       "      <td>NaN</td>\n",
       "      <td>NaN</td>\n",
       "      <td>NaN</td>\n",
       "      <td>NaN</td>\n",
       "      <td>NaN</td>\n",
       "      <td>NaN</td>\n",
       "    </tr>\n",
       "  </tbody>\n",
       "</table>\n",
       "<p>1 rows × 27 columns</p>\n",
       "</div>"
      ],
      "text/plain": [
       "      unique_mos_id first_name last_name command_now shield_no complaint_id  \\\n",
       "58661          9495   Nicholas   Corrado     076 PCT         0        25816   \n",
       "\n",
       "      month_received year_received month_closed year_closed  ...  \\\n",
       "58661              5        201ted          nan         nan  ...   \n",
       "\n",
       "      mos_age_incident complainant_ethnicity complainant_gender  \\\n",
       "58661              NaN                   NaN                NaN   \n",
       "\n",
       "      complainant_age_incident fado_type allegation precinct contact_reason  \\\n",
       "58661                      NaN       NaN        NaN      NaN            NaN   \n",
       "\n",
       "      outcome_description board_disposition  \n",
       "58661                 NaN               NaN  \n",
       "\n",
       "[1 rows x 27 columns]"
      ]
     },
     "execution_count": 126,
     "metadata": {},
     "output_type": "execute_result"
    }
   ],
   "source": [
    "data[data['year_received'] == '201ted']"
   ]
  },
  {
   "cell_type": "code",
   "execution_count": 59,
   "id": "d8bad711-bb54-4a36-bc1f-6c87c3eb3491",
   "metadata": {},
   "outputs": [],
   "source": [
    "#loading in glossary/reference sheets\n",
    "#layout describes columns\n",
    "#rank abbrevs describes officer types\n",
    "#command abbrevs describes officer's command assignment\n",
    "#FADO describes top-level category of complaint\n",
    "#dispositions describes result of complaint\n",
    "sheets = [\"Layout\", \"Rank Abbrevs\", \"Command Abbrevs\", 'FADO', 'Dispositions']\n",
    "data_layout_table = {}\n",
    "for sheet in sheets:\n",
    "    data_layout_table['_'.join(sheet.split())] = pd.read_excel('CCRB Data Layout Table.xlsx', sheet_name=sheet)"
   ]
  },
  {
   "cell_type": "code",
   "execution_count": 44,
   "id": "74a310ac-c5d1-4a75-964a-107a58b42093",
   "metadata": {},
   "outputs": [
    {
     "data": {
      "text/plain": [
       "Text(0, 0.5, 'Officer Count')"
      ]
     },
     "execution_count": 44,
     "metadata": {},
     "output_type": "execute_result"
    },
    {
     "data": {
      "image/png": "[encoded data removed]",
      "text/plain": [
       "<Figure size 1000x600 with 1 Axes>"
      ]
     },
     "metadata": {},
     "output_type": "display_data"
    }
   ],
   "source": [
    "#histogram of number of complaints for a single officer\n",
    "plt.figure(figsize=(10, 6))\n",
    "ax = sns.histplot(x=data['unique_mos_id'].value_counts(), data=data)\n",
    "ax.set_xlabel('Number of Complaints')\n",
    "ax.set_ylabel('Officer Count')"
   ]
  },
  {
   "cell_type": "code",
   "execution_count": 48,
   "id": "fe425d7f-6bc7-4098-9545-da03d3bafec7",
   "metadata": {},
   "outputs": [
    {
     "data": {
      "text/plain": [
       "Text(0, 0.5, 'Precinct(?) Count')"
      ]
     },
     "execution_count": 48,
     "metadata": {},
     "output_type": "execute_result"
    },
    {
     "data": {
      "image/png": "[encoded data removed]",
      "text/plain": [
       "<Figure size 1000x600 with 1 Axes>"
      ]
     },
     "metadata": {},
     "output_type": "display_data"
    }
   ],
   "source": [
    "#histogram of number of complaints for a single precinct(?)\n",
    "plt.figure(figsize=(10, 6))\n",
    "ax = sns.histplot(x=data['command_now'].value_counts(), data=data)\n",
    "ax.set_xlabel('Number of Complaints')\n",
    "ax.set_ylabel('Precinct(?) Count')"
   ]
  },
  {
   "cell_type": "code",
   "execution_count": 58,
   "id": "030e8380-b561-47b3-8e61-01387f1eae47",
   "metadata": {},
   "outputs": [
    {
     "data": {
      "text/html": [
       "<div>\n",
       "<style scoped>\n",
       "    .dataframe tbody tr th:only-of-type {\n",
       "        vertical-align: middle;\n",
       "    }\n",
       "\n",
       "    .dataframe tbody tr th {\n",
       "        vertical-align: top;\n",
       "    }\n",
       "\n",
       "    .dataframe thead th {\n",
       "        text-align: right;\n",
       "    }\n",
       "</style>\n",
       "<table border=\"1\" class=\"dataframe\">\n",
       "  <thead>\n",
       "    <tr style=\"text-align: right;\">\n",
       "      <th></th>\n",
       "      <th>Abbreviation</th>\n",
       "      <th>Command Name</th>\n",
       "    </tr>\n",
       "  </thead>\n",
       "  <tbody>\n",
       "    <tr>\n",
       "      <th>1</th>\n",
       "      <td>WARRSEC</td>\n",
       "      <td>Warrant Section</td>\n",
       "    </tr>\n",
       "    <tr>\n",
       "      <th>12</th>\n",
       "      <td>NARCBBX</td>\n",
       "      <td>Narcotics Borough Bronx</td>\n",
       "    </tr>\n",
       "    <tr>\n",
       "      <th>18</th>\n",
       "      <td>INT CIS</td>\n",
       "      <td>Criminal Intelligence Section</td>\n",
       "    </tr>\n",
       "    <tr>\n",
       "      <th>126</th>\n",
       "      <td>DB CEIS</td>\n",
       "      <td>Organized Crime Investigation Division</td>\n",
       "    </tr>\n",
       "  </tbody>\n",
       "</table>\n",
       "</div>"
      ],
      "text/plain": [
       "    Abbreviation                            Command Name\n",
       "1        WARRSEC                         Warrant Section\n",
       "12       NARCBBX                 Narcotics Borough Bronx\n",
       "18       INT CIS           Criminal Intelligence Section\n",
       "126      DB CEIS  Organized Crime Investigation Division"
      ]
     },
     "execution_count": 58,
     "metadata": {},
     "output_type": "execute_result"
    }
   ],
   "source": [
    "command_now_over_1000 = data['command_now'].value_counts()[data['command_now'].value_counts() > 1000]\n",
    "data_layout_table['Command_Abbrevs'][data_layout_table['Command_Abbrevs']['Abbreviation'].isin(command_now_over_1000.index)]\n"
   ]
  },
  {
   "cell_type": "code",
   "execution_count": 62,
   "id": "93eb0aa4-afc2-4bb7-8e04-e7c93efb345e",
   "metadata": {},
   "outputs": [
    {
     "data": {
      "text/plain": [
       "<Axes: xlabel='fado_type', ylabel='count'>"
      ]
     },
     "execution_count": 62,
     "metadata": {},
     "output_type": "execute_result"
    },
    {
     "data": {
      "image/png": "[encoded data removed]",
      "text/plain": [
       "<Figure size 1000x600 with 1 Axes>"
      ]
     },
     "metadata": {},
     "output_type": "display_data"
    }
   ],
   "source": [
    "plt.figure(figsize=(10, 6))\n",
    "sns.countplot(x='fado_type', data=data)"
   ]
  },
  {
   "cell_type": "code",
   "execution_count": 69,
   "id": "905406ca-a51b-4d2e-8902-68283cd5ce7a",
   "metadata": {},
   "outputs": [
    {
     "data": {
      "text/plain": [
       "array(['Failure to provide RTKA card', 'Action', 'Race', 'Question',\n",
       "       'Physical force', 'Refusal to process civilian complaint',\n",
       "       'Sexual orientation', 'Word', 'Refusal to provide shield number',\n",
       "       'Retaliatory summons', 'Refusal to provide name/shield number',\n",
       "       'Search (of person)', 'Pepper spray', 'Handcuffs too tight',\n",
       "       'Frisk', 'Vehicle stop', 'Vehicle search', 'Strip-searched',\n",
       "       'Threat of arrest', 'Threat of force (verbal or physical)', 'Stop',\n",
       "       'Refusal to obtain medical treatment',\n",
       "       'Hit against inanimate object', 'Frisk and/or search', 'Other',\n",
       "       'Question and/or stop', 'Premises entered and/or searched',\n",
       "       'Gun Drawn', 'Nonlethal restraining device', 'Retaliatory arrest',\n",
       "       'Seizure of property', 'Chokehold', 'Gender',\n",
       "       'Nightstick as club (incl asp & baton)', 'Refusal to provide name',\n",
       "       'Gun Pointed', 'Threat to notify ACS',\n",
       "       'Other blunt instrument as a club', 'Property damaged',\n",
       "       'Interference with recording', 'Refusal to show search warrant',\n",
       "       'Threat to damage/seize property', 'Gesture',\n",
       "       'Sex Miscon (Sexual Harassment, Verbal)',\n",
       "       'Sex Miscon (Sexual Harassment, Gesture)',\n",
       "       'Forcible Removal to Hospital', 'Entry of Premises', 'Ethnicity',\n",
       "       'Threat of summons', 'Other - Force', 'Search of Premises',\n",
       "       'Threat re: removal to hospital', 'Vehicle',\n",
       "       'Photography/Videography', 'Demeanor/tone', 'Curse',\n",
       "       'Dragged/Pulled', 'Push/Shove', 'Detention', 'Other- Discourtesy',\n",
       "       'Mace', 'Restricted Breathing', 'Body Cavity Searches',\n",
       "       'Flashlight as club', 'Electronic device information deletion',\n",
       "       'Search of recording device', 'Gun as club', 'Nasty Words',\n",
       "       'Radio As Club', 'Threat of force', 'Nightstick/Billy/Club',\n",
       "       'Black', 'Property Damaged', 'Other - Abuse', 'Property Seized',\n",
       "       'Threat to Property', 'Religion', 'Hispanic',\n",
       "       'Sexual Misconduct (Sexual Humiliation)', 'Punch/Kick',\n",
       "       'Threat of Arrest', 'Beat', 'Gun fired', 'Other - Ethnic Slur',\n",
       "       'Flashlight As Club', 'Sex Miscon (Sexual/Romantic Proposition)',\n",
       "       'Gun pointed/gun drawn', 'Radio as club',\n",
       "       'Improper dissemination of medical info', nan, 'Person Searched',\n",
       "       'Physical disability', 'Arrest/Onlooker',\n",
       "       'Failed to Obtain Language Interpretation', 'Rude Gesture',\n",
       "       'Jewish', 'Vehicle Searched', 'Gay/Lesbian Slur',\n",
       "       'Premise Searched', 'Arrest/D. A. T.', 'Oriental', 'Sh Refuse Cmp',\n",
       "       'Slap', 'Gun As Club', 'Police shield', 'Threat of Summons',\n",
       "       'White', 'Gun pointed', 'Profane Gesture',\n",
       "       'Refusal to show arrest warrant', 'Sexist Remark', 'Other Asian',\n",
       "       'Animal', 'No arrest made or summons issued', 'Gun Fired',\n",
       "       'Questioned immigration status', 'Gender Identity'], dtype=object)"
      ]
     },
     "execution_count": 69,
     "metadata": {},
     "output_type": "execute_result"
    }
   ],
   "source": [
    "data['allegation'].unique()"
   ]
  },
  {
   "cell_type": "code",
   "execution_count": 84,
   "id": "7ec5721c-bf17-4b6a-8c76-b6697d64fa35",
   "metadata": {},
   "outputs": [
    {
     "data": {
      "text/plain": [
       "allegation\n",
       "Physical force                           9189\n",
       "Word                                     7441\n",
       "Stop                                     4342\n",
       "Search (of person)                       3839\n",
       "Frisk                                    3631\n",
       "Premises entered and/or searched         2995\n",
       "Refusal to provide name/shield number    2796\n",
       "Vehicle search                           2655\n",
       "Threat of arrest                         2589\n",
       "Vehicle stop                             2060\n",
       "Threat of force (verbal or physical)     1712\n",
       "Question and/or stop                     1338\n",
       "Other                                    1203\n",
       "Gun Pointed                              1185\n",
       "Strip-searched                           1063\n",
       "Name: count, dtype: int64"
      ]
     },
     "execution_count": 84,
     "metadata": {},
     "output_type": "execute_result"
    }
   ],
   "source": [
    "#some of the most common allegations\n",
    "allegation_counts = data['allegation'].value_counts()\n",
    "allegation_counts[allegation_counts > 1000]"
   ]
  },
  {
   "cell_type": "code",
   "execution_count": 85,
   "id": "9e64da97-9fc8-40b0-9801-c0df20f5bc2e",
   "metadata": {},
   "outputs": [
    {
     "data": {
      "text/plain": [
       "<Figure size 1000x2000 with 0 Axes>"
      ]
     },
     "metadata": {},
     "output_type": "display_data"
    }
   ],
   "source": [
    "#uncomment to see allegation countplot sorted in descending order\n",
    "plt.figure(figsize=(10, 20))\n",
    "allegation_order = data['allegation'].value_counts().index\n",
    "#sns.countplot(y='allegation', data=data, order=allegation_order)"
   ]
  },
  {
   "cell_type": "code",
   "execution_count": 120,
   "id": "001cf534-a5fd-4a28-b888-6de567d42da9",
   "metadata": {},
   "outputs": [
    {
     "data": {
      "text/plain": [
       "<Axes: xlabel='year_received', ylabel='count'>"
      ]
     },
     "execution_count": 120,
     "metadata": {},
     "output_type": "execute_result"
    },
    {
     "data": {
      "image/png": "[encoded data removed]",
      "text/plain": [
       "<Figure size 2000x600 with 1 Axes>"
      ]
     },
     "metadata": {},
     "output_type": "display_data"
    }
   ],
   "source": [
    "#must finish data cleaning first\n",
    "plt.figure(figsize=(20, 6))\n",
    "sns.countplot(x='year_received', data=data)"
   ]
  },
  {
   "cell_type": "code",
   "execution_count": null,
   "id": "0a610c78-5e59-4628-99e3-5730121ba46a",
   "metadata": {},
   "outputs": [],
   "source": []
  }
 ],
 "metadata": {
  "kernelspec": {
   "display_name": "Python 3 (ipykernel)",
   "language": "python",
   "name": "python3"
  },
  "language_info": {
   "codemirror_mode": {
    "name": "ipython",
    "version": 3
   },
   "file_extension": ".py",
   "mimetype": "text/x-python",
   "name": "python",
   "nbconvert_exporter": "python",
   "pygments_lexer": "ipython3",
   "version": "3.11.9"
  }
 },
 "nbformat": 4,
 "nbformat_minor": 5
}
