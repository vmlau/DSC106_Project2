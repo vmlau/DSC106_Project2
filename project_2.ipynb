{
 "cells": [
  {
   "cell_type": "code",
   "execution_count": 2,
   "id": "1b69732b-dd03-45dc-8859-6563c210f7c3",
   "metadata": {},
   "outputs": [],
   "source": [
    "import pandas as pd\n",
    "import numpy as np\n",
    "import matplotlib as plt\n",
    "import seaborn as sns"
   ]
  },
  {
   "cell_type": "code",
   "execution_count": 8,
   "id": "c3c93606-69fe-4b2b-956d-553a1a62370c",
   "metadata": {},
   "outputs": [
    {
     "name": "stderr",
     "output_type": "stream",
     "text": [
      "/tmp/ipykernel_411/3308996609.py:1: ParserWarning: Skipping line 14755: expected 27 fields, saw 33\n",
      "\n",
      "  data = pd.read_csv('allegations_202007271729.csv', on_bad_lines='warn')\n",
      "/tmp/ipykernel_411/3308996609.py:1: ParserWarning: Skipping line 36823: expected 27 fields, saw 33\n",
      "Skipping line 44128: expected 27 fields, saw 31\n",
      "Skipping line 51398: expected 27 fields, saw 28\n",
      "\n",
      "  data = pd.read_csv('allegations_202007271729.csv', on_bad_lines='warn')\n",
      "/tmp/ipykernel_411/3308996609.py:1: DtypeWarning: Columns (0,4,5,6,7,8,9,23) have mixed types. Specify dtype option on import or set low_memory=False.\n",
      "  data = pd.read_csv('allegations_202007271729.csv', on_bad_lines='warn')\n"
     ]
    }
   ],
   "source": [
    "data = pd.read_csv('allegations_202007271729.csv', on_bad_lines='warn')"
   ]
  },
  {
   "cell_type": "code",
   "execution_count": null,
   "id": "dd0e6d0a-f9b0-44d1-b011-85247bf18e83",
   "metadata": {},
   "outputs": [],
   "source": []
  }
 ],
 "metadata": {
  "kernelspec": {
   "display_name": "Python 3 (ipykernel)",
   "language": "python",
   "name": "python3"
  },
  "language_info": {
   "codemirror_mode": {
    "name": "ipython",
    "version": 3
   },
   "file_extension": ".py",
   "mimetype": "text/x-python",
   "name": "python",
   "nbconvert_exporter": "python",
   "pygments_lexer": "ipython3",
   "version": "3.11.9"
  }
 },
 "nbformat": 4,
 "nbformat_minor": 5
}
